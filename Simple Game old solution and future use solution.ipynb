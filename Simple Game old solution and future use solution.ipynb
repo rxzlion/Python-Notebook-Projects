{
 "cells": [
  {
   "cell_type": "markdown",
   "metadata": {},
   "source": [
    "# Simple Game old solution and future use solution"
   ]
  },
  {
   "cell_type": "markdown",
   "metadata": {},
   "source": [
    "## A stupid way to crate a list within a list \n",
    "\n",
    "    This is way work but it is an pythonic.\n",
    "    The deepcopy is for copying the orginle list into a new one due to the fact that if you just append the orginle list you\n",
    "    just appand a refrrecnce to the same list and you can see that if you look ate the memoery location for each of them."
   ]
  },
  {
   "cell_type": "code",
   "execution_count": null,
   "metadata": {},
   "outputs": [],
   "source": [
    "def createmap():\n",
    "    width = int(input(\"How wide?\"))\n",
    "    height = int(input(\"How high?\"))\n",
    "    row = []\n",
    "    bak = '.'\n",
    "\n",
    "\n",
    "    for i in range(width):\n",
    "        row.append(bak)\n",
    "    \n",
    "    for i in range(height):\n",
    "        row2 = copy.deepcopy(row)\n",
    "        grid.append(row2)\n",
    "        \n",
    "    return width, height, grid"
   ]
  },
  {
   "cell_type": "markdown",
   "metadata": {},
   "source": [
    "Insted of using the way listed above I just used list comprhnsion"
   ]
  },
  {
   "cell_type": "code",
   "execution_count": null,
   "metadata": {},
   "outputs": [],
   "source": [
    "def create_map():\n",
    "    width = int(input(\"How wide?\"))\n",
    "    height = int(input(\"How high?\"))\n",
    "   \n",
    "    grid = [['.'] * (width) for height in range(height)]\n",
    "        \n",
    "    return grid"
   ]
  },
  {
   "cell_type": "markdown",
   "metadata": {},
   "source": [
    "## A way to rendomaly change a value inside a list within a list\n",
    "    \n",
    "    It works and it's not longer or better the the new way but the in the new way I don't need to pass in  width and height\n",
    "    into the fuction."
   ]
  },
  {
   "cell_type": "code",
   "execution_count": null,
   "metadata": {},
   "outputs": [],
   "source": [
    "def player_start_point(width, height):\n",
    "    x = randint(0, width-1)\n",
    "    y = randint(0, height-1)\n",
    "    \n",
    "    playerposition = np.array([x, y])\n",
    "    \n",
    "    grid[y][x] = \"P\"\n",
    "\n",
    "    print (\"You start at ({0},{1})\".format((x),(y)))\n",
    "    \n",
    "    return playerposition"
   ]
  },
  {
   "cell_type": "markdown",
   "metadata": {},
   "source": [
    "The new way"
   ]
  },
  {
   "cell_type": "code",
   "execution_count": 3,
   "metadata": {},
   "outputs": [],
   "source": [
    "def player_start_point():\n",
    "    y = random.randrange(0,len(grid))\n",
    "    x = random.randrange(0,len(grid[y]))\n",
    "    \n",
    "    playerposition = np.array([x, y])\n",
    "    \n",
    "    return playerposition"
   ]
  },
  {
   "cell_type": "markdown",
   "metadata": {},
   "source": [
    "## A way to clear the console"
   ]
  },
  {
   "cell_type": "code",
   "execution_count": 4,
   "metadata": {},
   "outputs": [],
   "source": [
    "from IPython.display import clear_output\n",
    "\n",
    "def clear():\n",
    "    for f in range(10):\n",
    "        clear_output(wait=True)\n",
    "        print(f)"
   ]
  },
  {
   "cell_type": "markdown",
   "metadata": {},
   "source": [
    "## Initialize function"
   ]
  },
  {
   "cell_type": "code",
   "execution_count": 5,
   "metadata": {},
   "outputs": [],
   "source": [
    "def initialize():\n",
    "    width, height, grid = createmap()\n",
    "    playerposition = playerstart(width, height)\n",
    "    printmap()  "
   ]
  },
  {
   "cell_type": "markdown",
   "metadata": {},
   "source": [
    "## Convrted this functions to Classes"
   ]
  },
  {
   "cell_type": "markdown",
   "metadata": {},
   "source": [
    "    Convrted the folowing function into classes.\n",
    "    Consolidated create_map() and print_map() into one GameMap Classe.\n",
    "    Defunct player_start_point() function created a Player Classe instead with an update update_coordinates function.\n",
    "    Instead of the player_start_point() I have created a generate_coordinates method inside of the GameMap Classe.\n",
    "    The generate_coordinates method will make it esaier to genarte coordinates for other objects in bthe future and makes it\n",
    "    esier to acsess the width and height virable."
   ]
  },
  {
   "cell_type": "markdown",
   "metadata": {},
   "source": [
    "### Old functions"
   ]
  },
  {
   "cell_type": "code",
   "execution_count": null,
   "metadata": {},
   "outputs": [],
   "source": [
    "def create_map():\n",
    "    width = int(input(\"How wide?\"))\n",
    "    height = int(input(\"How high?\"))\n",
    "   \n",
    "    grid = [['.'] * (width) for height in range(height)]\n",
    "        \n",
    "    return grid\n",
    "\n",
    "def player_start_point():\n",
    "    y = random.randrange(0,len(grid))\n",
    "    x = random.randrange(0,len(grid[y]))\n",
    "    \n",
    "    playerposition = np.array([x, y])\n",
    "    \n",
    "    return playerposition\n",
    "\n",
    "def print_map(grid, playerposition):\n",
    "    grid[playerposition[1]][playerposition[0]] = \"P\"\n",
    "    while True:\n",
    "        for i in range(len(grid)):\n",
    "            print(*grid[i:i+1])\n",
    "        else: \n",
    "            break\n",
    "            \n",
    "    return"
   ]
  },
  {
   "cell_type": "markdown",
   "metadata": {},
   "source": [
    "### New classes"
   ]
  },
  {
   "cell_type": "code",
   "execution_count": null,
   "metadata": {},
   "outputs": [],
   "source": [
    "class Player:\n",
    "    \n",
    "    def __init__(self, coordinates, symbol=\"P\"):\n",
    "        self.symbol = symbol\n",
    "        self.coordinates = coordinates\n",
    "    \n",
    "    def update_coordinates(self, coordinates):\n",
    "         self.coordinates = coordinates\n",
    "                \n",
    "class GameMap:\n",
    "\n",
    "    def __init__(self, width=10, height=10):\n",
    "        self.width = width\n",
    "        self.height = height\n",
    "        \n",
    "        #This isn't strictly necessary, but it clearly introduces these attributes\n",
    "        self._game_map = None\n",
    "                \n",
    "        self.create_map()\n",
    "        \n",
    "    def create_map(self):\n",
    "        self._game_map = [['.'] * (self.width) for height in range(self.height)]\n",
    "        \n",
    "    def generate_coordinates(self):\n",
    "        x = random.randrange(0,self.width)\n",
    "        y = random.randrange(0,self.height)\n",
    "        \n",
    "        coordinates = np.array([x, y])\n",
    "    \n",
    "        return coordinates\n",
    "                         \n",
    "    def add_object_to_map(self, coordinates, symbol):\n",
    "        self._game_map[coordinates[1]][coordinates[0]] = symbol\n",
    "        \n",
    "    def print_map(self):\n",
    "        while True:\n",
    "            for i in range(len(self._game_map)):\n",
    "                print(*self._game_map[i:i+1])\n",
    "            else: \n",
    "                break"
   ]
  },
  {
   "cell_type": "markdown",
   "metadata": {},
   "source": [
    "## Made a GameObject class"
   ]
  },
  {
   "cell_type": "markdown",
   "metadata": {},
   "source": [
    "    Changed the Player class into a base GameObject class and made Player class inherit from the base class.\n",
    "    This will make it esiear to ceate other game objects in the future."
   ]
  },
  {
   "cell_type": "code",
   "execution_count": null,
   "metadata": {},
   "outputs": [],
   "source": [
    "class GameObject:\n",
    "    \n",
    "    def __init__(self, coordinates, symbol=\"\"):\n",
    "        self.symbol = symbol\n",
    "        self.coordinates = coordinates\n",
    "    \n",
    "    def update_coordinates(self, coordinates):\n",
    "         self.coordinates = coordinates\n",
    "            \n",
    "class Player(GameObject):\n",
    "    pass"
   ]
  }
 ],
 "metadata": {
  "kernelspec": {
   "display_name": "Python 3",
   "language": "python",
   "name": "python3"
  },
  "language_info": {
   "codemirror_mode": {
    "name": "ipython",
    "version": 3
   },
   "file_extension": ".py",
   "mimetype": "text/x-python",
   "name": "python",
   "nbconvert_exporter": "python",
   "pygments_lexer": "ipython3",
   "version": "3.6.3"
  }
 },
 "nbformat": 4,
 "nbformat_minor": 2
}
