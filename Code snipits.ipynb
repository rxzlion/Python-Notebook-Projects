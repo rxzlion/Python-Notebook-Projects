{
 "cells": [
  {
   "cell_type": "code",
   "execution_count": null,
   "metadata": {},
   "outputs": [],
   "source": [
    "#grid with numbring on the side\n",
    "\n",
    "while True:\n",
    "    for i in range(len(grid)):\n",
    "        space = ' '*(len(str(height))-len(str(i+1)))\n",
    "        if i==0:\n",
    "            print(*range(1,len(grid)+1))\n",
    "        print(i+1, space, *grid[i:i+1])\n",
    "    else:\n",
    "        break  \n"
   ]
  },
  {
   "cell_type": "code",
   "execution_count": null,
   "metadata": {},
   "outputs": [],
   "source": [
    "#No new line in ptrint\n",
    "\n",
    "print (\"hi\", end=\"\")\n",
    "print (\"hi\")"
   ]
  },
  {
   "cell_type": "code",
   "execution_count": null,
   "metadata": {},
   "outputs": [],
   "source": [
    "#String formatting\n",
    "\n",
    "count = 1\n",
    "conv = count * 2.54\n",
    "print ('{0} {1}'.format(count, conv))"
   ]
  },
  {
   "cell_type": "code",
   "execution_count": null,
   "metadata": {},
   "outputs": [],
   "source": [
    "#clone or copy a lis\n",
    "\n",
    "#You can slice it:\n",
    "\n",
    "#new_list = old_list[:]\n",
    "#Alex Martelli's opinion (at least back in 2007) about this is, that it is a weird syntax and it does not make sense to use it ever. ;) (In his opinion, the next one is more readable).\n",
    "\n",
    "#You can use the built in list() function:\n",
    "\n",
    "#new_list = list(old_list)\n",
    "\n",
    "#You can use generic copy.copy():\n",
    "\n",
    "#import copy\n",
    "#new_list = copy.copy(old_list)\n",
    "#This is a little slower than list() because it has to find out the datatype of old_list first.\n",
    "\n",
    "#If the list contains objects and you want to copy them as well, use generic copy.deepcopy():\n",
    "\n",
    "#import copy\n",
    "#new_list = copy.deepcopy(old_list)\n",
    "#Obviously the slowest and most memory-needing method, but sometimes unavoidable.\n",
    "\n",
    "#Example:\n",
    "\n",
    "import copy\n",
    "\n",
    "class Foo(object):\n",
    "    def __init__(self, val):\n",
    "         self.val = val\n",
    "\n",
    "    def __repr__(self):\n",
    "        return str(self.val)\n",
    "\n",
    "foo = Foo(1)\n",
    "\n",
    "a = ['foo', foo]\n",
    "b = a[:]\n",
    "c = list(a)\n",
    "d = copy.copy(a)\n",
    "e = copy.deepcopy(a)\n",
    "\n",
    "# edit orignal list and instance \n",
    "a.append('baz')\n",
    "foo.val = 5\n",
    "\n",
    "print('original: %r\\n slice: %r\\n list(): %r\\n copy: %r\\n deepcopy: %r'\n",
    "      % (a, b, c, d, e))"
   ]
  },
  {
   "cell_type": "code",
   "execution_count": null,
   "metadata": {},
   "outputs": [],
   "source": [
    "#Dictionary iterate through values\n",
    "\n",
    "PIX0 = {\"QVGA\":\"320x240\", \"VGA\":\"640x480\", \"SVGA\":\"800x600\"}\n",
    "for key in PIX0:\n",
    "    NUM = input(\"What is the Resolution of {!r}?\".format(key))\n",
    "    if NUM == PIX0[key]:\n",
    "        print (\"Nice Job!\")\n",
    "        count = count + 1\n",
    "    else:\n",
    "        print(\"I'm sorry but thats wrong. The correct answer was: {!r}.\".format(key))\n",
    "\n",
    "for key, val in PIX0.items():\n",
    "    NUM = input(\"Which standard has a resolution of {!r}?\".format(val))\n",
    "    if NUM == key:\n",
    "        print (\"Nice Job!\")\n",
    "        count = count + 1\n",
    "    else:\n",
    "        print(\"I'm sorry but thats wrong. The correct answer was: {!r}.\".format(key))"
   ]
  },
  {
   "cell_type": "code",
   "execution_count": 11,
   "metadata": {},
   "outputs": [
    {
     "name": "stdout",
     "output_type": "stream",
     "text": [
      "Requirement already satisfied: matplotlib in c:\\program files\\python36\\lib\\site-packages\n",
      "Requirement already satisfied: six>=1.10 in c:\\program files\\python36\\lib\\site-packages (from matplotlib)\n",
      "Requirement already satisfied: python-dateutil>=2.1 in c:\\program files\\python36\\lib\\site-packages (from matplotlib)\n",
      "Requirement already satisfied: numpy>=1.7.1 in c:\\program files\\python36\\lib\\site-packages (from matplotlib)\n",
      "Requirement already satisfied: pyparsing!=2.0.4,!=2.1.2,!=2.1.6,>=2.0.1 in c:\\program files\\python36\\lib\\site-packages (from matplotlib)\n",
      "Requirement already satisfied: pytz in c:\\program files\\python36\\lib\\site-packages (from matplotlib)\n",
      "Requirement already satisfied: cycler>=0.10 in c:\\program files\\python36\\lib\\site-packages (from matplotlib)\n"
     ]
    }
   ],
   "source": [
    "#install Python Modules\n",
    "\n",
    "!python -m pip install matplotlib"
   ]
  },
  {
   "cell_type": "code",
   "execution_count": null,
   "metadata": {},
   "outputs": [],
   "source": []
  }
 ],
 "metadata": {
  "kernelspec": {
   "display_name": "Python 3",
   "language": "python",
   "name": "python3"
  },
  "language_info": {
   "codemirror_mode": {
    "name": "ipython",
    "version": 3
   },
   "file_extension": ".py",
   "mimetype": "text/x-python",
   "name": "python",
   "nbconvert_exporter": "python",
   "pygments_lexer": "ipython3",
   "version": "3.6.3"
  }
 },
 "nbformat": 4,
 "nbformat_minor": 2
}
